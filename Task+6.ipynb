{
 "cells": [
  {
   "cell_type": "code",
   "execution_count": 1,
   "metadata": {
    "collapsed": true
   },
   "outputs": [],
   "source": [
    "get_ipython().magic('matplotlib inline')\n",
    "import pandas as pd\n",
    "import numpy as np\n",
    "import matplotlib.pyplot as plt\n",
    "import seaborn as sns\n",
    "sns.set_style('white')\n",
    "sns.set_context('notebook')\n",
    "\n",
    "data=pd.read_excel('caschool.xlsx.xls')\n",
    "\n",
    "state=440232650+470353886+470352982 # sum of the student IDs for the members of the group\n",
    "\n",
    "train = data.sample(frac=0.8, random_state=state) # For tasks 1-5 \n",
    "test = data[data.index.isin(train.index)==False].copy() # Only for prediction (task 6)\n",
    "\n",
    "train=train.reset_index(drop=True)\n",
    "test=test.reset_index(drop=True)"
   ]
  },
  {
   "cell_type": "code",
   "execution_count": 2,
   "metadata": {},
   "outputs": [
    {
     "name": "stderr",
     "output_type": "stream",
     "text": [
      "C:\\Users\\sarah\\Anaconda2\\lib\\site-packages\\statsmodels\\compat\\pandas.py:56: FutureWarning: The pandas.core.datetools module is deprecated and will be removed in a future version. Please use the pandas.tseries module instead.\n",
      "  from pandas.core import datetools\n"
     ]
    }
   ],
   "source": [
    "import statsmodels.formula.api as smf\n",
    "import statsmodels.api as sm"
   ]
  },
  {
   "cell_type": "markdown",
   "metadata": {},
   "source": [
    "I've just done an example model here, the code will be the same for all models "
   ]
  },
  {
   "cell_type": "code",
   "execution_count": 3,
   "metadata": {},
   "outputs": [
    {
     "data": {
      "text/html": [
       "<table class=\"simpletable\">\n",
       "<caption>OLS Regression Results</caption>\n",
       "<tr>\n",
       "  <th>Dep. Variable:</th>         <td>testscr</td>     <th>  R-squared:         </th> <td>   0.711</td>\n",
       "</tr>\n",
       "<tr>\n",
       "  <th>Model:</th>                   <td>OLS</td>       <th>  Adj. R-squared:    </th> <td>   0.707</td>\n",
       "</tr>\n",
       "<tr>\n",
       "  <th>Method:</th>             <td>Least Squares</td>  <th>  F-statistic:       </th> <td>   162.5</td>\n",
       "</tr>\n",
       "<tr>\n",
       "  <th>Date:</th>             <td>Mon, 30 Oct 2017</td> <th>  Prob (F-statistic):</th> <td>9.93e-87</td>\n",
       "</tr>\n",
       "<tr>\n",
       "  <th>Time:</th>                 <td>20:44:09</td>     <th>  Log-Likelihood:    </th> <td> -1256.7</td>\n",
       "</tr>\n",
       "<tr>\n",
       "  <th>No. Observations:</th>      <td>   336</td>      <th>  AIC:               </th> <td>   2525.</td>\n",
       "</tr>\n",
       "<tr>\n",
       "  <th>Df Residuals:</th>          <td>   330</td>      <th>  BIC:               </th> <td>   2548.</td>\n",
       "</tr>\n",
       "<tr>\n",
       "  <th>Df Model:</th>              <td>     5</td>      <th>                     </th>     <td> </td>   \n",
       "</tr>\n",
       "<tr>\n",
       "  <th>Covariance Type:</th>      <td>nonrobust</td>    <th>                     </th>     <td> </td>   \n",
       "</tr>\n",
       "</table>\n",
       "<table class=\"simpletable\">\n",
       "<tr>\n",
       "      <td></td>         <th>coef</th>     <th>std err</th>      <th>t</th>      <th>P>|t|</th>  <th>[0.025</th>    <th>0.975]</th>  \n",
       "</tr>\n",
       "<tr>\n",
       "  <th>Intercept</th> <td>  640.2120</td> <td>   12.543</td> <td>   51.041</td> <td> 0.000</td> <td>  615.538</td> <td>  664.886</td>\n",
       "</tr>\n",
       "<tr>\n",
       "  <th>str</th>       <td>   -0.0034</td> <td>    0.392</td> <td>   -0.009</td> <td> 0.993</td> <td>   -0.775</td> <td>    0.768</td>\n",
       "</tr>\n",
       "<tr>\n",
       "  <th>avginc</th>    <td>    1.5005</td> <td>    0.088</td> <td>   17.106</td> <td> 0.000</td> <td>    1.328</td> <td>    1.673</td>\n",
       "</tr>\n",
       "<tr>\n",
       "  <th>el_pct</th>    <td>   -0.4803</td> <td>    0.034</td> <td>  -14.186</td> <td> 0.000</td> <td>   -0.547</td> <td>   -0.414</td>\n",
       "</tr>\n",
       "<tr>\n",
       "  <th>expn_stu</th>  <td>   -0.0008</td> <td>    0.001</td> <td>   -0.701</td> <td> 0.484</td> <td>   -0.003</td> <td>    0.002</td>\n",
       "</tr>\n",
       "<tr>\n",
       "  <th>comp_stu</th>  <td>   21.9546</td> <td>    9.473</td> <td>    2.318</td> <td> 0.021</td> <td>    3.320</td> <td>   40.589</td>\n",
       "</tr>\n",
       "</table>\n",
       "<table class=\"simpletable\">\n",
       "<tr>\n",
       "  <th>Omnibus:</th>       <td> 7.234</td> <th>  Durbin-Watson:     </th> <td>   1.903</td>\n",
       "</tr>\n",
       "<tr>\n",
       "  <th>Prob(Omnibus):</th> <td> 0.027</td> <th>  Jarque-Bera (JB):  </th> <td>   8.412</td>\n",
       "</tr>\n",
       "<tr>\n",
       "  <th>Skew:</th>          <td>-0.225</td> <th>  Prob(JB):          </th> <td>  0.0149</td>\n",
       "</tr>\n",
       "<tr>\n",
       "  <th>Kurtosis:</th>      <td> 3.631</td> <th>  Cond. No.          </th> <td>1.20e+05</td>\n",
       "</tr>\n",
       "</table>"
      ],
      "text/plain": [
       "<class 'statsmodels.iolib.summary.Summary'>\n",
       "\"\"\"\n",
       "                            OLS Regression Results                            \n",
       "==============================================================================\n",
       "Dep. Variable:                testscr   R-squared:                       0.711\n",
       "Model:                            OLS   Adj. R-squared:                  0.707\n",
       "Method:                 Least Squares   F-statistic:                     162.5\n",
       "Date:                Mon, 30 Oct 2017   Prob (F-statistic):           9.93e-87\n",
       "Time:                        20:44:09   Log-Likelihood:                -1256.7\n",
       "No. Observations:                 336   AIC:                             2525.\n",
       "Df Residuals:                     330   BIC:                             2548.\n",
       "Df Model:                           5                                         \n",
       "Covariance Type:            nonrobust                                         \n",
       "==============================================================================\n",
       "                 coef    std err          t      P>|t|      [0.025      0.975]\n",
       "------------------------------------------------------------------------------\n",
       "Intercept    640.2120     12.543     51.041      0.000     615.538     664.886\n",
       "str           -0.0034      0.392     -0.009      0.993      -0.775       0.768\n",
       "avginc         1.5005      0.088     17.106      0.000       1.328       1.673\n",
       "el_pct        -0.4803      0.034    -14.186      0.000      -0.547      -0.414\n",
       "expn_stu      -0.0008      0.001     -0.701      0.484      -0.003       0.002\n",
       "comp_stu      21.9546      9.473      2.318      0.021       3.320      40.589\n",
       "==============================================================================\n",
       "Omnibus:                        7.234   Durbin-Watson:                   1.903\n",
       "Prob(Omnibus):                  0.027   Jarque-Bera (JB):                8.412\n",
       "Skew:                          -0.225   Prob(JB):                       0.0149\n",
       "Kurtosis:                       3.631   Cond. No.                     1.20e+05\n",
       "==============================================================================\n",
       "\n",
       "Warnings:\n",
       "[1] Standard Errors assume that the covariance matrix of the errors is correctly specified.\n",
       "[2] The condition number is large, 1.2e+05. This might indicate that there are\n",
       "strong multicollinearity or other numerical problems.\n",
       "\"\"\""
      ]
     },
     "execution_count": 3,
     "metadata": {},
     "output_type": "execute_result"
    }
   ],
   "source": [
    "# enter the formula and create the OLS for each of the 5 best models:\n",
    "formula='testscr ~ str + avginc + el_pct + expn_stu + comp_stu'\n",
    "ols1 = smf.ols(formula=formula, data=train).fit()\n",
    "resid1 = ols1.resid\n",
    "fitted1 = ols1.fittedvalues\n",
    "ols1.summary()"
   ]
  },
  {
   "cell_type": "code",
   "execution_count": 5,
   "metadata": {},
   "outputs": [],
   "source": [
    "# Predict the test data: input requires all of the variables in the chosen model\n",
    "yp_ff=ols1.predict({'str': test['str'], 'avginc': test['avginc'], 'el_pct': test['el_pct'], 'expn_stu':test['expn_stu'], 'comp_stu': test['comp_stu']})"
   ]
  },
  {
   "cell_type": "code",
   "execution_count": 6,
   "metadata": {},
   "outputs": [
    {
     "data": {
      "text/plain": [
       "(10.516902603123329, 8.7051769667957757)"
      ]
     },
     "execution_count": 6,
     "metadata": {},
     "output_type": "execute_result"
    }
   ],
   "source": [
    "#RMSFE, MAFE\n",
    "(sum((test['testscr']-yp_ff)**2)/len(yp_ff))**0.5, sum(abs(test['testscr']-yp_ff))/len(yp_ff)"
   ]
  },
  {
   "cell_type": "code",
   "execution_count": 7,
   "metadata": {},
   "outputs": [
    {
     "name": "stdout",
     "output_type": "stream",
     "text": [
      "                            OLS Regression Results                            \n",
      "==============================================================================\n",
      "Dep. Variable:                testscr   R-squared:                       0.705\n",
      "Model:                            OLS   Adj. R-squared:                  0.701\n",
      "Method:                 Least Squares   F-statistic:                     195.9\n",
      "Date:                Mon, 30 Oct 2017   Prob (F-statistic):           1.92e-23\n",
      "Time:                        20:51:44   Log-Likelihood:                -316.44\n",
      "No. Observations:                  84   AIC:                             636.9\n",
      "Df Residuals:                      82   BIC:                             641.8\n",
      "Df Model:                           1                                         \n",
      "Covariance Type:            nonrobust                                         \n",
      "==============================================================================\n",
      "                 coef    std err          t      P>|t|      [0.025      0.975]\n",
      "------------------------------------------------------------------------------\n",
      "Intercept     32.8663     44.489      0.739      0.462     -55.637     121.370\n",
      "yp_ff          0.9507      0.068     13.997      0.000       0.816       1.086\n",
      "==============================================================================\n",
      "Omnibus:                        1.842   Durbin-Watson:                   1.275\n",
      "Prob(Omnibus):                  0.398   Jarque-Bera (JB):                1.386\n",
      "Skew:                          -0.091   Prob(JB):                        0.500\n",
      "Kurtosis:                       2.398   Cond. No.                     2.52e+04\n",
      "==============================================================================\n",
      "\n",
      "Warnings:\n",
      "[1] Standard Errors assume that the covariance matrix of the errors is correctly specified.\n",
      "[2] The condition number is large, 2.52e+04. This might indicate that there are\n",
      "strong multicollinearity or other numerical problems.\n"
     ]
    }
   ],
   "source": [
    "# to calculate forecast R-squared\n",
    "formula='testscr ~ yp_ff'\n",
    "ols1_t = smf.ols(formula=formula, data=test).fit()\n",
    "print(ols1_t.summary())"
   ]
  },
  {
   "cell_type": "code",
   "execution_count": null,
   "metadata": {
    "collapsed": true
   },
   "outputs": [],
   "source": []
  }
 ],
 "metadata": {
  "kernelspec": {
   "display_name": "Python 2",
   "language": "python",
   "name": "python2"
  },
  "language_info": {
   "codemirror_mode": {
    "name": "ipython",
    "version": 2
   },
   "file_extension": ".py",
   "mimetype": "text/x-python",
   "name": "python",
   "nbconvert_exporter": "python",
   "pygments_lexer": "ipython2",
   "version": "2.7.13"
  }
 },
 "nbformat": 4,
 "nbformat_minor": 2
}
